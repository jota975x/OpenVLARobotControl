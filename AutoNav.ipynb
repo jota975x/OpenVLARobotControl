{
 "cells": [
  {
   "cell_type": "code",
   "execution_count": 1,
   "metadata": {},
   "outputs": [],
   "source": [
    "%load_ext autoreload\n",
    "%autoreload 2"
   ]
  },
  {
   "cell_type": "code",
   "execution_count": 2,
   "metadata": {},
   "outputs": [],
   "source": [
    "import torch\n",
    "import pybullet as p\n",
    "import pybullet_data\n",
    "import time\n",
    "import math\n",
    "import numpy as np\n",
    "import json\n",
    "\n",
    "from scripts.buffer import ReplayBuffer\n",
    "from scripts.SAC import AgentSAC\n",
    "from scripts.utils import diff_drive_control, get_state, compute_reward_done, get_spawn, get_goal, add_random_blocks"
   ]
  },
  {
   "cell_type": "code",
   "execution_count": 3,
   "metadata": {},
   "outputs": [],
   "source": [
    "# DEFINE VARIABLES AND HYPERPARAMETERS\n",
    "PI = math.pi\n",
    "NUM_EPISODES = 2500\n",
    "ACTION_DURATION = 0.5\n",
    "STEP_ACTION_DUARTION = int(ACTION_DURATION * 240.0)\n",
    "MAX_EPISODE_TIME = 20\n",
    "MAX_STEPS_PER_EPISODE = int(MAX_EPISODE_TIME / ACTION_DURATION)\n",
    "NEW_GOAL_EVERY = 2\n",
    "SAVE_EVERY = 50\n",
    "\n",
    "device = torch.device(\"cuda\" if torch.cuda.is_available() else \"cpu\")"
   ]
  },
  {
   "cell_type": "code",
   "execution_count": 4,
   "metadata": {},
   "outputs": [],
   "source": [
    "# Load Environment\n",
    "physicsClient = p.connect(p.GUI)\n",
    "p.setGravity(0, 0, -9.8)\n",
    "p.setAdditionalSearchPath(pybullet_data.getDataPath())\n",
    "room_size = 10\n",
    "add_random_blocks(num_blocks=10, x_range=(-room_size, room_size), y_range=(-room_size, room_size))\n",
    "\n",
    "p.loadURDF('plane.urdf')\n",
    "\n",
    "init_pos = [0, 0, 0]\n",
    "init_orientation = p.getQuaternionFromEuler([0, 0, 0])\n",
    "robotId = p.loadURDF('diff_drive_robot/diff_drive_robot.urdf', basePosition=init_pos, baseOrientation=init_orientation)\n",
    "p.changeDynamics(robotId, linkIndex=-1, lateralFriction=0.0, spinningFriction=0.0, rollingFriction=0.0)\n",
    "p.changeDynamics(robotId, 0, lateralFriction=5.0)\n",
    "p.changeDynamics(robotId, 1, lateralFriction=5.0)\n",
    "num_joints = p.getNumJoints(robotId) - 1"
   ]
  },
  {
   "cell_type": "code",
   "execution_count": 5,
   "metadata": {},
   "outputs": [
    {
     "name": "stderr",
     "output_type": "stream",
     "text": [
      "C:\\Users\\joaqu\\AppData\\Local\\Temp\\ipykernel_48020\\3096984387.py:3: FutureWarning: You are using `torch.load` with `weights_only=False` (the current default value), which uses the default pickle module implicitly. It is possible to construct malicious pickle data which will execute arbitrary code during unpickling (See https://github.com/pytorch/pytorch/blob/main/SECURITY.md#untrusted-models for more details). In a future release, the default value for `weights_only` will be flipped to `True`. This limits the functions that could be executed during unpickling. Arbitrary objects will no longer be allowed to be loaded via this mode unless they are explicitly allowlisted by the user via `torch.serialization.add_safe_globals`. We recommend you start setting `weights_only=True` for any use case where you don't have full control of the loaded file. Please open an issue on GitHub for any issues related to this experimental feature.\n",
      "  agent.load_state_dict(torch.load('saves/model_state_2499.pth'))\n"
     ]
    }
   ],
   "source": [
    "batch_size = 128\n",
    "agent = AgentSAC(state_dim=367, action_dim=2).to(device)\n",
    "agent.load_state_dict(torch.load('saves/model_state_2499.pth'))\n",
    "buffer = ReplayBuffer(capacity=10000, batch_size=batch_size)\n",
    "\n",
    "reward_tracking = []\n",
    "dist_goal_tracking = []\n",
    "step_tracking = []"
   ]
  },
  {
   "cell_type": "code",
   "execution_count": null,
   "metadata": {},
   "outputs": [
    {
     "name": "stdout",
     "output_type": "stream",
     "text": [
      "Started episode 0, spwan: [0,0] goal [0.807541416094618, 0.5322430047179205]\n",
      "Finished episode 0 with total reward 1230.987681915679, average reward 205.16461365261318, distance to goal: 0.0357600712945101, in 6 steps\n",
      "Started episode 1, spwan: [0,0] goal [0.807541416094618, 0.5322430047179205]\n"
     ]
    }
   ],
   "source": [
    "agent.train()\n",
    "for episode in range(NUM_EPISODES):\n",
    "    \n",
    "    # set spawn and goal\n",
    "    if episode % NEW_GOAL_EVERY == 0:\n",
    "        # set spawn\n",
    "        spawn = get_spawn()\n",
    "        new_position = [spawn[0], spawn[1], 0.05]\n",
    "        new_orientation = p.getQuaternionFromEuler([0, 0, spawn[2]])\n",
    "        # set goal\n",
    "        goal = get_goal(new_position)\n",
    "\n",
    "    # Reset position\n",
    "    p.resetBasePositionAndOrientation(robotId, posObj=new_position, ornObj=new_orientation)\n",
    "    # collect initial state\n",
    "    state = get_state(robotId, goal)\n",
    "\n",
    "    total_reward = 0\n",
    "    done = False\n",
    "    print(f'Started episode {episode}, spwan: [{spawn[0]},{spawn[1]}] goal {goal}')\n",
    "    for step in range(MAX_STEPS_PER_EPISODE):\n",
    "\n",
    "        # choose and perform action\n",
    "        action, _ = agent.actor.sample(torch.tensor(state, dtype=torch.float32).to(device))\n",
    "        action = action.detach().cpu().numpy()\n",
    "        action_drive = diff_drive_control(linear_vel=action[0], angular_vel=action[1])\n",
    "        p.setJointMotorControlArray(robotId, range(num_joints), controlMode=p.VELOCITY_CONTROL, targetVelocities=action_drive, forces=[100, 100])\n",
    "        start_time = time.time()\n",
    "        for _ in range(STEP_ACTION_DUARTION):\n",
    "            p.stepSimulation()\n",
    "            time.sleep(1.0 / 240.0)\n",
    "        # p.setJointMotorControlArray(robotId, range(num_joints), controlMode=p.VELOCITY_CONTROL, targetVelocities=[0, 0], forces=[100, 100])\n",
    "        # for _ in range(24):\n",
    "        #     p.stepSimulation()\n",
    "        #     #time.sleep(1.0 / 240.0)\n",
    "\n",
    "        # collect new state\n",
    "        next_state = get_state(robotId, goal)\n",
    "\n",
    "        # get reward and done\n",
    "        reward, done = compute_reward_done(state, action, next_state)\n",
    "        total_reward += reward\n",
    "\n",
    "        # store transition in buffer\n",
    "        buffer.push(state, action, next_state, reward, done)\n",
    "\n",
    "        # update model\n",
    "        if len(buffer) >= batch_size:\n",
    "            # sample from batch\n",
    "            states, actions, next_states, rewards, dones = buffer.sample()\n",
    "            # update critic \n",
    "            agent.update_critic(states, actions, next_states, rewards, dones)\n",
    "            # update actor\n",
    "            agent.update_actor(states)\n",
    "            \n",
    "        # break if done\n",
    "        if done:\n",
    "            break\n",
    "\n",
    "        # update state\n",
    "        state = next_state\n",
    "    \n",
    "    robot_pos, _ = p.getBasePositionAndOrientation(robotId)\n",
    "    dist_to_goal = np.sqrt((robot_pos[0] - goal[0])**2  + (robot_pos[1] - goal[1])**2)\n",
    "\n",
    "    # Results log\n",
    "    print(f'Finished episode {episode} with total reward {total_reward}, average reward {total_reward / (step+1)}, distance to goal: {dist_to_goal}, in {step+1} steps')\n",
    "    reward_tracking.append(total_reward)\n",
    "    dist_goal_tracking.append(dist_to_goal)\n",
    "    step_tracking.append(step)\n",
    "\n",
    "    # Save model every few steps\n",
    "    if episode % SAVE_EVERY == 0 or episode == NUM_EPISODES-1:\n",
    "        torch.save(agent.state_dict(), f'saves/model_state_{episode}.pth')\n",
    "\n",
    "# Save training data\n",
    "with open('training_log/training_log_lidar.json', 'w') as file:\n",
    "    json.dump({'Reward': reward_tracking, 'Distance': dist_goal_tracking, 'Steps': step_tracking}, file)"
   ]
  },
  {
   "cell_type": "code",
   "execution_count": null,
   "metadata": {},
   "outputs": [],
   "source": []
  }
 ],
 "metadata": {
  "kernelspec": {
   "display_name": "drl-project",
   "language": "python",
   "name": "python3"
  },
  "language_info": {
   "codemirror_mode": {
    "name": "ipython",
    "version": 3
   },
   "file_extension": ".py",
   "mimetype": "text/x-python",
   "name": "python",
   "nbconvert_exporter": "python",
   "pygments_lexer": "ipython3",
   "version": "3.10.15"
  }
 },
 "nbformat": 4,
 "nbformat_minor": 2
}
